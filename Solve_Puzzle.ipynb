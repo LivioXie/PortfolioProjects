{
  "nbformat": 4,
  "nbformat_minor": 0,
  "metadata": {
    "colab": {
      "provenance": [],
      "include_colab_link": true
    },
    "kernelspec": {
      "name": "python3",
      "display_name": "Python 3"
    },
    "language_info": {
      "name": "python"
    }
  },
  "cells": [
    {
      "cell_type": "markdown",
      "metadata": {
        "id": "view-in-github",
        "colab_type": "text"
      },
      "source": [
        "<a href=\"https://colab.research.google.com/github/LivioXie/PortfolioProjects/blob/main/Solve_Puzzle.ipynb\" target=\"_parent\"><img src=\"https://colab.research.google.com/assets/colab-badge.svg\" alt=\"Open In Colab\"/></a>"
      ]
    },
    {
      "cell_type": "code",
      "execution_count": null,
      "metadata": {
        "colab": {
          "base_uri": "https://localhost:8080/"
        },
        "id": "iCUI81wuwHGW",
        "outputId": "929630d1-8420-49ac-fe2f-6ed4bc5fb8a8"
      },
      "outputs": [
        {
          "output_type": "stream",
          "name": "stdout",
          "text": [
            "[[8. 7. 0.]\n",
            " [6. 1. 5.]\n",
            " [3. 4. 2.]]\n"
          ]
        }
      ],
      "source": [
        "import numpy as np\n",
        "import random\n",
        "from queue import PriorityQueue\n",
        "\n",
        "# Goal state for the sliding puzzle\n",
        "goal_state = np.array([[1, 2, 3], [4, 5, 6], [7, 8, 0]])\n",
        "\n",
        "# Heuristic function: Manhattan Distance\n",
        "def heuristic(state, goal=goal_state):\n",
        "    distance = 0\n",
        "    for i in range(3):\n",
        "        for j in range(3):\n",
        "            if state[i, j] != 0:\n",
        "                goal_pos = np.argwhere(goal == state[i, j])[0]\n",
        "                distance += abs(i - goal_pos[0]) + abs(j - goal_pos[1])\n",
        "    return distance\n",
        "\n",
        "# A* search for the sliding puzzle\n",
        "def a_star_search(start):\n",
        "    start_tuple = tuple(start.flatten())  # Flatten the matrix to use it in the queue\n",
        "    goal_tuple = tuple(goal_state.flatten())\n",
        "\n",
        "    frontier = PriorityQueue()\n",
        "    frontier.put((0 + heuristic(start), 0, start_tuple))  # (priority, cost, state)\n",
        "\n",
        "    came_from = {}\n",
        "    cost_so_far = {}\n",
        "\n",
        "    came_from[start_tuple] = None\n",
        "    cost_so_far[start_tuple] = 0\n",
        "\n",
        "    while not frontier.empty():\n",
        "        _, current_cost, current = frontier.get()\n",
        "        current_state = np.array(current).reshape(3, 3)\n",
        "\n",
        "        if current == goal_tuple:\n",
        "            break\n",
        "\n",
        "        # Get the empty space (0) position\n",
        "        empty_pos = tuple(np.argwhere(current_state == 0)[0])\n",
        "        x, y = empty_pos\n",
        "\n",
        "        # Generate neighbors (valid moves)\n",
        "        moves = [(-1, 0), (1, 0), (0, -1), (0, 1)]  # Up, Down, Left, Right\n",
        "        for dx, dy in moves:\n",
        "            new_x, new_y = x + dx, y + dy\n",
        "            if 0 <= new_x < 3 and 0 <= new_y < 3:\n",
        "                # Swap the empty space with the adjacent tile\n",
        "                new_state = current_state.copy()\n",
        "                new_state[x, y], new_state[new_x, new_y] = new_state[new_x, new_y], new_state[x, y]\n",
        "                new_tuple = tuple(new_state.flatten())\n",
        "\n",
        "                new_cost = current_cost + 1  # Each move has a cost of 1\n",
        "                if new_tuple not in cost_so_far or new_cost < cost_so_far[new_tuple]:\n",
        "                    cost_so_far[new_tuple] = new_cost\n",
        "                    priority = new_cost + heuristic(new_state)\n",
        "                    frontier.put((priority, new_cost, new_tuple))\n",
        "                    came_from[new_tuple] = current\n",
        "\n",
        "    # Reconstruct the path (if needed)\n",
        "    current = goal_tuple\n",
        "    path = []\n",
        "    while current != start_tuple:\n",
        "        path.append(np.array(current).reshape(3, 3))\n",
        "        current = came_from[current]\n",
        "    path.append(start)\n",
        "    path.reverse()\n",
        "\n",
        "    return path, cost_so_far[goal_tuple]\n",
        "\n",
        "# Check if the puzzle is solvable\n",
        "def is_solvable(puzzle):\n",
        "    one_d_puzzle = puzzle.flatten()\n",
        "    inversions = 0\n",
        "    for i in range(len(one_d_puzzle)):\n",
        "        for j in range(i + 1, len(one_d_puzzle)):\n",
        "            if one_d_puzzle[i] > one_d_puzzle[j] and one_d_puzzle[i] != 0 and one_d_puzzle[j] != 0:\n",
        "                inversions += 1\n",
        "    return inversions % 2 == 0\n",
        "\n",
        "# Generate a solvable puzzle\n",
        "def generate_solvable_puzzle():\n",
        "    while True:\n",
        "        puzzle = generate_puzzle()\n",
        "        if is_solvable(puzzle):\n",
        "            return puzzle\n",
        "\n",
        "# Generate random puzzle\n",
        "def generate_puzzle():\n",
        "    list1 = [0, 1, 2, 3, 4, 5, 6, 7, 8]\n",
        "    puzzle = np.zeros((3, 3), dtype=int)\n",
        "    for i in range(3):\n",
        "        for j in range(3):\n",
        "            value = random.choice(list1)\n",
        "            puzzle[i, j] = value\n",
        "            list1.remove(value)\n",
        "    return puzzle\n",
        "\n",
        "# Test A* Search\n",
        "start = generate_solvable_puzzle()\n",
        "print(\"Initial Puzzle:\")\n",
        "print(start)\n",
        "\n",
        "path, cost = a_star_search(start)\n",
        "\n",
        "print(\"\\nSolution Path:\")\n",
        "for step in path:\n",
        "    print(step)\n",
        "    print()\n",
        "\n",
        "\n"
      ]
    },
    {
      "cell_type": "code",
      "source": [],
      "metadata": {
        "id": "4HD3VExY4ahO"
      },
      "execution_count": null,
      "outputs": []
    }
  ]
}